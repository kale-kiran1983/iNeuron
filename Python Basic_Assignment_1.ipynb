{
 "cells": [
  {
   "cell_type": "markdown",
   "id": "7fc74be7-7a0f-4471-a3bf-e7ac3f249a05",
   "metadata": {},
   "source": [
    "## Q1. In the below elements which of them are values or an expression? eg:- values can be integer or string and expressions will be mathematical operators.\n",
    "### Ans:\n",
    "\n",
    "*  : Expression \n",
    "\n",
    "'hello' : Sring value\n",
    "\n",
    "-87.8 : Float value\n",
    "\n",
    "- : Expression \n",
    "\n",
    "/ : Expression \n",
    "\n",
    "+ : Expression \n",
    "\n",
    "6 : Numeric value\n",
    "\n",
    "\n"
   ]
  },
  {
   "cell_type": "markdown",
   "id": "605ca34d-1583-4981-85bd-375a10af0367",
   "metadata": {},
   "source": [
    "## Q2. What is the difference between string and variable?\n",
    "### Ans:\n",
    "String is temporary value which can be use to present or it can be store in variable to use later\n",
    "\n",
    "Variable is data storeage provision where we can store values and use as per requirement"
   ]
  },
  {
   "cell_type": "markdown",
   "id": "2b2be40e-e092-4aed-8e4a-9eec2ee11d8b",
   "metadata": {},
   "source": [
    "## Q3. Describe three different data types.\n",
    "### Ans:\n",
    "Sequencial :to hold Sequiencial data like String, tuple, List\n",
    "\n",
    "Numeric: to hold numeric data like. Interger, Float, Complex\n",
    "\n",
    "Boolean: to hold Boolean data"
   ]
  },
  {
   "cell_type": "markdown",
   "id": "1ae37301-e5d4-4ae7-91f2-a18228a4ddba",
   "metadata": {},
   "source": [
    "## Q4. What is an expression made up of? What do all expressions do?\n",
    "### Ans:\n",
    "An expression is a combination of values, variables, operators, and calls to functions. Expressions need to be evaluated. The interpreter evaluates the expression and provide results which can use for display or perform other actions."
   ]
  },
  {
   "cell_type": "markdown",
   "id": "6f4adc39-ee12-422d-b0ad-781922441b15",
   "metadata": {},
   "source": [
    "## Q5. This assignment statements, like spam = 10. What is the difference between an expression and a statement?\n",
    "### Ans:\n",
    "Statement will be kind of instruction which Interpretor will execute but not need to evalute. but extression has to be evaluted and then excuted to get the result "
   ]
  },
  {
   "cell_type": "markdown",
   "id": "a236803d-a44b-4c15-bac6-ddfd7b6b2a99",
   "metadata": {},
   "source": [
    "## Q6. After running the following code, what does the variable bacon contain?\n",
    "bacon = 22\n",
    "bacon + 1\n",
    "\n",
    "### Ans:\n",
    "bacon is still holding value 22."
   ]
  },
  {
   "cell_type": "markdown",
   "id": "03309e16-0e7c-4030-b42d-4cf3c7e0530f",
   "metadata": {},
   "source": [
    "## Q7. What should the values of the following two terms be?\n",
    "'spam' + 'spamspam'\n",
    "'spam' * 3\n",
    "\n",
    "### Ans:\n",
    "\n",
    "'spam' + 'spamspam' = 'spamspamspam'\n",
    "\n",
    "'spam' * 3 ='spamspamspam' \n"
   ]
  },
  {
   "cell_type": "markdown",
   "id": "48fc465a-1ff0-4f6e-906e-725b960b9974",
   "metadata": {},
   "source": [
    "## Q8. Why is eggs a valid variable name while 100 is invalid?\n",
    "### Ans:\n",
    "\n",
    "As per variable naming rule, variable can start with character but it cannot start with number and Hence \"eggs\" is valid variable name and 100 is invalid "
   ]
  },
  {
   "cell_type": "markdown",
   "id": "8558edf8-9343-494a-90e2-a429914e94a2",
   "metadata": {},
   "source": [
    "## Q9. What three functions can be used to get the integer, floating-point number, or string version of a value?\n",
    "\n",
    "### Ans:\n",
    "Interger : int()\n",
    "\n",
    "Floating-point number : float()\n",
    "\n",
    "String : str()"
   ]
  },
  {
   "cell_type": "markdown",
   "id": "473f74e9-ee05-48ba-9773-2a48df9d29ae",
   "metadata": {},
   "source": [
    "## Q10. Why does this expression cause an error? How can you fix it?\n",
    "'I have eaten ' + 99 + ' burritos.'\n",
    "\n",
    "### Ans:\n",
    "Due to type conversion error, expression will raise error. concatenate will work with String.\n",
    "\n",
    "Solution: 'I have eaten ' + str(99) + ' burritos.'"
   ]
  }
 ],
 "metadata": {
  "kernelspec": {
   "display_name": "Python 3 (ipykernel)",
   "language": "python",
   "name": "python3"
  },
  "language_info": {
   "codemirror_mode": {
    "name": "ipython",
    "version": 3
   },
   "file_extension": ".py",
   "mimetype": "text/x-python",
   "name": "python",
   "nbconvert_exporter": "python",
   "pygments_lexer": "ipython3",
   "version": "3.9.7"
  }
 },
 "nbformat": 4,
 "nbformat_minor": 5
}
