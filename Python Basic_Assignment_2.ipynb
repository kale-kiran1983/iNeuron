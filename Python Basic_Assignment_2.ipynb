{
 "cells": [
  {
   "cell_type": "markdown",
   "id": "f4155c5e-7772-44bc-a8ca-638198ff99b3",
   "metadata": {},
   "source": [
    "## Q1.What are the two values of the Boolean data type? How do you write them?\n",
    "\n",
    "### Ans:\n",
    "true & false\n",
    "\n",
    "for Ex. \n",
    "A=true\n",
    "B=false"
   ]
  },
  {
   "cell_type": "markdown",
   "id": "3df8387b-a50e-40f1-b33d-5abc75727086",
   "metadata": {},
   "source": [
    "## Q2. What are the three different types of Boolean operators?\n",
    "\n",
    "### Ans:\n",
    "\n",
    "AND, OR , NOT"
   ]
  },
  {
   "cell_type": "markdown",
   "id": "e87dc4c2-5fcf-4d9f-bce1-4dc182d2f485",
   "metadata": {},
   "source": [
    "## Q3. Make a list of each Boolean operator's truth tables (i.e. every possible combination of Boolean values for the operator and what it evaluate ).\n",
    "\n",
    "### Ans:\n",
    "\n",
    "#### OR\n",
    "\n",
    "(F,F)=F;\n",
    "(F,T)=T;\n",
    "(T,F)=T;\n",
    "(T,T)=T\n",
    "\n",
    "#### AND\n",
    "\n",
    "(F,F)=F;\n",
    "(F,T)=F;\n",
    "(T,F)=F;\n",
    "(T,T)=T\n",
    "\n",
    "#### NOT\n",
    "\n",
    "not(T)=F;\n",
    "not(F)=T\n",
    "\n"
   ]
  },
  {
   "cell_type": "markdown",
   "id": "ee53cc83-0de4-4b2a-a66d-931b2b6f0cc2",
   "metadata": {},
   "source": [
    "## Q4. What are the values of the following expressions?\n",
    "(5 > 4) and (3 == 5)\n",
    "\n",
    "not (5 > 4)\n",
    "\n",
    "(5 > 4) or (3 == 5)\n",
    "\n",
    "not ((5 > 4) or (3 == 5))\n",
    "\n",
    "(True and True) and (True == False)\n",
    "\n",
    "(not False) or (not True)\n",
    "\n",
    "### Ans:\n",
    "\n",
    "#### False\n",
    "\n",
    "(5 > 4) and (3 == 5)\n",
    "\n",
    "not (5 > 4)\n",
    "\n",
    "not ((5 > 4) or (3 == 5))\n",
    "\n",
    "(True and True) and (True == False)\n",
    "\n",
    "#### True\n",
    "(5 > 4) or (3 == 5)\n",
    "\n",
    "(not False) or (not True)\n",
    "\n",
    "\n",
    "\n",
    "\n",
    "\n"
   ]
  },
  {
   "cell_type": "markdown",
   "id": "f0592fbb-f81a-4b67-8f97-020939726b73",
   "metadata": {},
   "source": [
    "## Q5. What are the six comparison operators?\n",
    "\n",
    "### Ans:\n",
    "\n",
    "##### ==\n",
    "\n",
    "##### !=\n",
    "\n",
    "##### <\n",
    "\n",
    "##### >\n",
    "\n",
    "##### <=\n",
    "\n",
    "##### >="
   ]
  },
  {
   "cell_type": "markdown",
   "id": "2023d5a1-4366-4384-ad4d-72114c6e3ba5",
   "metadata": {},
   "source": [
    "## Q6. How do you tell the difference between the equal to and assignment operators?Describe a condition and when you would use one.\n",
    "\n",
    "### Ans:\n",
    "\n",
    "Opertator use for equal to is \"==\" where operator use for assignment is \"=\".\n",
    "\n",
    "Equal to operator mainly use in conditions like if, while, etc...\n",
    "\n",
    "Assignment operator use to assign value in any variable like A = 10, B=\"Hello\"\n"
   ]
  },
  {
   "cell_type": "markdown",
   "id": "e83cc513-48a8-46c4-ab52-6767ba7c7fc2",
   "metadata": {},
   "source": [
    "## q7. Identify the three blocks in this code:\n",
    "spam = 0\n",
    "\n",
    "if spam == 10:\n",
    "\n",
    "print('eggs')\n",
    "\n",
    "if spam > 5:\n",
    "\n",
    "print('bacon')\n",
    "\n",
    "else:\n",
    "\n",
    "print('ham')\n",
    "\n",
    "print('spam')\n",
    "\n",
    "print('spam')\n",
    "\n",
    "### Ans:\n",
    "\n",
    "spam = 0\n",
    "\n",
    "    if spam == 10:\n",
    "\n",
    "        print('eggs')\n",
    "\n",
    "    if spam > 5:\n",
    "\n",
    "        print('bacon')\n",
    "\n",
    "     else:\n",
    "\n",
    "        print('ham')\n",
    "\n",
    "        print('spam')\n",
    "\n",
    "print('spam')\n"
   ]
  },
  {
   "cell_type": "markdown",
   "id": "46d3db15-b53f-40d4-8349-a6b0daaa350c",
   "metadata": {},
   "source": [
    "## Q8. Write code that prints Hello if 1 is stored in spam, prints Howdy if 2 is stored in spam, and prints Greetings! if anything else is stored in spam.\n",
    "\n",
    "### Ans:"
   ]
  },
  {
   "cell_type": "code",
   "execution_count": 6,
   "id": "8710a90e-7a64-4d1e-9711-0b4309f3b91d",
   "metadata": {},
   "outputs": [
    {
     "name": "stdin",
     "output_type": "stream",
     "text": [
      "enter the number 1\n"
     ]
    },
    {
     "name": "stdout",
     "output_type": "stream",
     "text": [
      "Hello\n"
     ]
    }
   ],
   "source": [
    "spam = int(input(\"enter the number\"))\n",
    "\n",
    "if spam == 1:\n",
    "    print(\"Hello\")\n",
    "elif spam == 2:\n",
    "    print(\"Howdy\")\n",
    "else:\n",
    "    print(\"Greetings!\")\n"
   ]
  },
  {
   "cell_type": "markdown",
   "id": "db0b8ab8-78a3-4437-997a-08a842570b0e",
   "metadata": {},
   "source": [
    "## Q9.If your programme is stuck in an endless loop, what keys you’ll press?\n",
    "\n",
    "### Ans:\n",
    "\n",
    "CTRL + C\n",
    "\n"
   ]
  },
  {
   "cell_type": "markdown",
   "id": "493d509f-a632-40dc-9553-6eb919eb5949",
   "metadata": {},
   "source": [
    "## Q10. How can you tell the difference between break and continue?\n",
    "\n",
    "### Ans:\n",
    "\n",
    "\"break\" will stop the loop and come out of it, where \"continue\" will just skip current loop iteration and move to next loop iteration. \n"
   ]
  },
  {
   "cell_type": "markdown",
   "id": "2f79b93e-f5bd-499f-b6f1-6280b8a5e019",
   "metadata": {},
   "source": [
    "## Q11. In a for loop, what is the difference between range(10), range(0, 10), and range(0, 10, 1)?\n",
    "\n",
    "### Ans:\n",
    "\n",
    "All are same."
   ]
  },
  {
   "cell_type": "code",
   "execution_count": 7,
   "id": "36ab9789-6941-465f-8a80-a27eaa94cce4",
   "metadata": {},
   "outputs": [
    {
     "name": "stdout",
     "output_type": "stream",
     "text": [
      "range(0, 10)\n",
      "range(0, 10)\n",
      "range(0, 10)\n"
     ]
    }
   ],
   "source": [
    "print(range(10))\n",
    "print(range(0, 10))\n",
    "print(range(0, 10, 1))"
   ]
  },
  {
   "cell_type": "markdown",
   "id": "40ab7444-fb47-4709-b1b7-830108084cad",
   "metadata": {},
   "source": [
    "## Q12. Write a short program that prints the numbers 1 to 10 using a for loop. Then write an equivalent program that prints the numbers 1 to 10 using a while loop.\n",
    "\n",
    "### Ans:"
   ]
  },
  {
   "cell_type": "code",
   "execution_count": 9,
   "id": "07011b35-618f-4d94-b2f0-cbd211108c1b",
   "metadata": {},
   "outputs": [
    {
     "name": "stdout",
     "output_type": "stream",
     "text": [
      "1\n",
      "2\n",
      "3\n",
      "4\n",
      "5\n",
      "6\n",
      "7\n",
      "8\n",
      "9\n",
      "10\n"
     ]
    }
   ],
   "source": [
    "for i in range (1,11):\n",
    "    print(i)"
   ]
  },
  {
   "cell_type": "code",
   "execution_count": 10,
   "id": "f79d0dd4-dd59-4b84-8c25-b838a7930180",
   "metadata": {},
   "outputs": [
    {
     "name": "stdout",
     "output_type": "stream",
     "text": [
      "1\n",
      "2\n",
      "3\n",
      "4\n",
      "5\n",
      "6\n",
      "7\n",
      "8\n",
      "9\n",
      "10\n"
     ]
    }
   ],
   "source": [
    "i=1\n",
    "\n",
    "while i<=10:\n",
    "    print(i)\n",
    "    i+=1"
   ]
  },
  {
   "cell_type": "markdown",
   "id": "8d4f4e2b-3b90-49bf-b237-c899c46782a8",
   "metadata": {},
   "source": [
    "## Q13. If you had a function named bacon() inside a module named spam, how would you call it after importing spam?\n",
    "\n",
    "### Ans:\n",
    "\n",
    "spam.bacon()\n"
   ]
  },
  {
   "cell_type": "code",
   "execution_count": null,
   "id": "470d8ab0-51f4-4e09-9662-673ba18a1762",
   "metadata": {},
   "outputs": [],
   "source": []
  }
 ],
 "metadata": {
  "kernelspec": {
   "display_name": "Python 3 (ipykernel)",
   "language": "python",
   "name": "python3"
  },
  "language_info": {
   "codemirror_mode": {
    "name": "ipython",
    "version": 3
   },
   "file_extension": ".py",
   "mimetype": "text/x-python",
   "name": "python",
   "nbconvert_exporter": "python",
   "pygments_lexer": "ipython3",
   "version": "3.9.7"
  }
 },
 "nbformat": 4,
 "nbformat_minor": 5
}
