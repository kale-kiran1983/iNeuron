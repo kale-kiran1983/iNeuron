{
 "cells": [
  {
   "cell_type": "markdown",
   "id": "c24df413-30ff-4863-afc6-7214912bc13a",
   "metadata": {},
   "source": [
    "## Q1. Why are functions advantageous to have in your programs?\n",
    "\n",
    "### Ans:\n",
    "\n",
    "Functions are increase reusibilty of repeatative code which need to write and check only once. Which reduce effort of coding and testing time."
   ]
  },
  {
   "cell_type": "markdown",
   "id": "f1fd90c9-7bea-4610-80f9-eebf57716286",
   "metadata": {},
   "source": [
    "## Q2. When does the code in a function run: when it's specified or when it's called?\n",
    "\n",
    "### Ans: \n",
    "\n",
    "Code in function run only when function is called"
   ]
  },
  {
   "cell_type": "markdown",
   "id": "ea4992cb-53cb-4c57-a592-874b30bc55ac",
   "metadata": {},
   "source": [
    "## Q3. What statement creates a function?\n",
    "\n",
    "### Ans:\n",
    "\n",
    "def statement followed function name create function. for exam. \n",
    "\n",
    "def test():\n",
    "\n",
    "    return \"Hello\"\n",
    "   "
   ]
  },
  {
   "cell_type": "markdown",
   "id": "979789c9-d8b8-4b66-90f0-b1be745fa0c7",
   "metadata": {},
   "source": [
    "## Q4. What is the difference between a function and a function call?\n",
    "\n",
    "### Ans:\n",
    "\n",
    "function is block where you can define set of sysntax which can be reuse later. however, this block get execute only when we call that function and we can call function multiple times based on requirements"
   ]
  },
  {
   "cell_type": "markdown",
   "id": "09bb5ea0-c7b3-4d04-bd90-abd27f4db1f1",
   "metadata": {},
   "source": [
    "## Q5. How many global scopes are there in a Python program? How many local scopes?\n",
    "\n",
    "### Ans:\n",
    "\n",
    "We can have only one global scope in program but we can have multiple local scopes"
   ]
  },
  {
   "cell_type": "markdown",
   "id": "e3c67d62-c8ea-4562-9618-daab390aea81",
   "metadata": {},
   "source": [
    "## Q6. What happens to variables in a local scope when the function call returns?\n",
    "\n",
    "### Ans:\n",
    "\n",
    "Life of any local scope is till the time function is running and after function call return, it get destroyed\n",
    "\n"
   ]
  },
  {
   "cell_type": "markdown",
   "id": "aaa8e190-f4d3-49a4-8aa7-02f6fc89d039",
   "metadata": {},
   "source": [
    "## Q7. What is the concept of a return value? Is it possible to have a return value in an expression?\n",
    "\n",
    "### Ans:\n",
    "\n",
    "Return value is value return by any function at the end of function which can be output of function or indicator that function is completed. Return value can be use later for taking actions or it can be input for another variable,expression, function or code..\n",
    "\n",
    "Yes, we can use return value in an expression\n"
   ]
  },
  {
   "cell_type": "markdown",
   "id": "d5975ff3-44e7-4ec7-95ab-b764515ca4f4",
   "metadata": {},
   "source": [
    "## Q8. If a function does not have a return statement, what is the return value of a call to that function?\n",
    "\n",
    "### Ans:\n",
    "\n",
    "If a function does not have a return statement then return value of a call that function is \"None\""
   ]
  },
  {
   "cell_type": "markdown",
   "id": "72c33b4f-a254-40bf-947d-702fbe7ba0ec",
   "metadata": {},
   "source": [
    "## Q9. How do you make a function variable refer to the global variable?\n",
    "\n",
    "### Ans:\n",
    "\n",
    "We need to define variable with keyward \"global\" inside the function with same name to refer global variable\n",
    "\n"
   ]
  },
  {
   "cell_type": "markdown",
   "id": "f0436352-2a33-4ae5-bf87-07a6fb607425",
   "metadata": {},
   "source": [
    "## Q10. What is the data type of None?\n",
    "\n",
    "### Ans:\n",
    "\n",
    "None is a data type of it's own(i.e. NoneType)"
   ]
  },
  {
   "cell_type": "markdown",
   "id": "860dd068-dc58-4443-b7d5-319082de7cfe",
   "metadata": {},
   "source": [
    "## Q11. What does the sentence import areallyourpetsnamederic do?\n",
    "\n",
    "### Ans:\n",
    "\n",
    "sentence \"import areallyourpetsnamederic\" will try to import module \"areallyourpetsnamederic\"\n"
   ]
  },
  {
   "cell_type": "markdown",
   "id": "ce1feddc-9fe5-4b59-9b46-26a1dc37ae5b",
   "metadata": {},
   "source": [
    "## Q12. If you had a bacon() feature in a spam module, what would you call it after importing spam?\n",
    "\n",
    "### Ans:\n",
    "\n",
    "spam.bacon()"
   ]
  },
  {
   "cell_type": "markdown",
   "id": "5743d879-b71c-4191-89f2-9cd2ac865c64",
   "metadata": {},
   "source": [
    "## Q13. What can you do to save a programme from crashing if it encounters an error?\n",
    "\n",
    "### Ans:\n",
    "\n",
    "We will need to use Error handling to avoid such cases aby using try and except\n"
   ]
  },
  {
   "cell_type": "markdown",
   "id": "ee439c06-9dcb-4baa-984b-12f7c32bdec0",
   "metadata": {},
   "source": [
    "## Q14. What is the purpose of the try clause? What is the purpose of the except clause?\n",
    "\n",
    "### Ans:\n",
    "\n",
    "Try clause use to keep programming code and exception clause is to keep error handling syntax if any error occour in try block. "
   ]
  },
  {
   "cell_type": "code",
   "execution_count": null,
   "id": "89e6851f-ef77-41d5-97bf-b87bada2a60f",
   "metadata": {},
   "outputs": [],
   "source": []
  }
 ],
 "metadata": {
  "kernelspec": {
   "display_name": "Python 3 (ipykernel)",
   "language": "python",
   "name": "python3"
  },
  "language_info": {
   "codemirror_mode": {
    "name": "ipython",
    "version": 3
   },
   "file_extension": ".py",
   "mimetype": "text/x-python",
   "name": "python",
   "nbconvert_exporter": "python",
   "pygments_lexer": "ipython3",
   "version": "3.9.7"
  }
 },
 "nbformat": 4,
 "nbformat_minor": 5
}
