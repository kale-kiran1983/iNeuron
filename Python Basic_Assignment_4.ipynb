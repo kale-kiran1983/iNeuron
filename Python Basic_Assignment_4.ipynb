{
 "cells": [
  {
   "cell_type": "markdown",
   "id": "bb8ec143-a802-41db-9b10-1cb1c28df4b6",
   "metadata": {},
   "source": [
    "## Q1. What exactly is []?\n",
    "### Ans:\n",
    "\n",
    "Syntax to define list. any values given in it will be consider as elements of list. if nothoing is given then it will be blank set.\n",
    "\n"
   ]
  },
  {
   "cell_type": "markdown",
   "id": "a4dc9c29-8582-4ddc-9f97-8f52d9e54b06",
   "metadata": {},
   "source": [
    "## Q2. In a list of values stored in a variable called spam, how would you assign the value 'hello' as the third value? (Assume [2, 4, 6, 8, 10] are in spam.)\n",
    "\n",
    "### Ans:\n",
    "\n",
    "spam[2]=\"hello\""
   ]
  },
  {
   "cell_type": "markdown",
   "id": "14564df7-c46a-4f21-9e3a-606cc81e945f",
   "metadata": {},
   "source": [
    "## Q3-Q4. Let's pretend the spam includes the list ['a', 'b', 'c', 'd'] for the next three queries."
   ]
  },
  {
   "cell_type": "markdown",
   "id": "89718f3e-3d07-42d5-9dd5-bc31e2efa7e4",
   "metadata": {},
   "source": [
    "## Q3. What is the value of spam[int(int('3' * 2) / 11)]?\n",
    "### Ans:\n",
    "\n",
    "'3' * 2 = '33'\n",
    "\n",
    "int(int('3' * 2) / 11) = 3\n",
    "\n",
    "spam[3] = 'd'\n",
    "\n",
    "Output = 'd'\n"
   ]
  },
  {
   "cell_type": "markdown",
   "id": "fca441a8-a5d8-4942-8f13-8a39d3f6e468",
   "metadata": {},
   "source": [
    "## Q4. What is the value of spam[-1]?\n",
    "### Ans:\n",
    "spam[-1] = 'd'"
   ]
  },
  {
   "cell_type": "markdown",
   "id": "33d33c5e-1a09-4d58-925e-821c3db1aca1",
   "metadata": {},
   "source": [
    "## Q5. What is the value of spam[:2]?\n",
    "\n",
    "### Ans:\n",
    "\n",
    "spam[:2]=['a','b']"
   ]
  },
  {
   "cell_type": "markdown",
   "id": "2a0e9d3a-5725-4377-ac6b-6e29fbe45720",
   "metadata": {},
   "source": [
    "## Q6-Q8. Let's pretend bacon has the list [3.14, 'cat,' 11, 'cat,' True] for the next three questions."
   ]
  },
  {
   "cell_type": "markdown",
   "id": "906ce692-56c2-412d-8151-aaa5ca7df062",
   "metadata": {},
   "source": [
    "## Q6. What is the value of bacon.index('cat')?\n",
    "\n",
    "### Ans:\n",
    "\n",
    "bacon.index('cat') = 1"
   ]
  },
  {
   "cell_type": "markdown",
   "id": "2dffb101-7799-4bb3-9dd3-7b33bbfb271d",
   "metadata": {},
   "source": [
    "## Q7. How does bacon.append(99) change the look of the list value in bacon?\n",
    "\n",
    "### Ans:\n",
    "\n",
    "Output = [3.14,'cat', 11, 'cat', True,99]"
   ]
  },
  {
   "cell_type": "markdown",
   "id": "d5c8bec9-1220-41eb-8844-45eb68049e1c",
   "metadata": {},
   "source": [
    "## Q8. How does bacon.remove('cat') change the look of the list in bacon?\n",
    "\n",
    "### Ans:\n",
    "Output = [3.14, 11, 'cat', True]\n",
    "\n",
    "Note: 99 appended is not added in above output considering separate request"
   ]
  },
  {
   "cell_type": "markdown",
   "id": "f35ede40-2c0c-47fb-befc-3c9b54b873c6",
   "metadata": {},
   "source": [
    "## Q9. What are the list concatenation and list replication operators?\n",
    "\n",
    "### Ans:\n",
    "\n",
    "The operator for list concatenation is +, while the operator for replication is *."
   ]
  },
  {
   "cell_type": "markdown",
   "id": "9dd83cd8-53d8-4f95-bc93-e33d6c022c0e",
   "metadata": {},
   "source": [
    "## Q10. What is difference between the list methods append() and insert()?\n",
    "\n",
    "### Ans:\n",
    "\n",
    "Append will add element at the end of list. Insert will allow user to added element on specific index number."
   ]
  },
  {
   "cell_type": "markdown",
   "id": "0e6aa657-b8b8-4e33-a56d-6fec762fa41a",
   "metadata": {},
   "source": [
    "## Q11. What are the two methods for removing items from a list?\n",
    "\n",
    "### Ans:\n",
    "\n",
    "remove and pop are two methods to remove items from list"
   ]
  },
  {
   "cell_type": "markdown",
   "id": "6dc2010f-0d69-4225-8bd5-c83594113bc3",
   "metadata": {},
   "source": [
    "## Q12. Describe how list values and string values are identical.\n",
    "\n",
    "### Ans:\n",
    "\n",
    "Both strings and lists have lengths & position.\n",
    "a string's length is the number of characters in the string where a list's length is the number of items in the list. \n",
    "\n",
    "Each character in a string as well as each item in a list has a position, also called an index."
   ]
  },
  {
   "cell_type": "markdown",
   "id": "6ba0ddcf-58a2-4125-9498-595c1120656a",
   "metadata": {},
   "source": [
    "## Q13. What's the difference between tuples and lists?\n",
    "\n",
    "### Ans:\n",
    "\n",
    "Tuples are immutables and hence you cannot update elements in tuples but List are mutable and hence it's possible to change/update list elements.\n",
    "\n",
    "Tuples can use to create key in dictionary but we cannot use list for this task.\n",
    "\n",
    "Defining tuple and list have own syntax i.e. () for tuple and [] for list\n"
   ]
  },
  {
   "cell_type": "markdown",
   "id": "e2335752-2416-43d3-852a-cc90c5ddda17",
   "metadata": {},
   "source": [
    "## Q14. How do you type a tuple value that only contains the integer 42?\n",
    "\n",
    "### Ans:\n",
    "\n",
    "(42,)"
   ]
  },
  {
   "cell_type": "markdown",
   "id": "241b970c-53c0-4408-b178-98e3a9ff3c6e",
   "metadata": {},
   "source": [
    "## Q15. How do you get a list value's tuple form? How do you get a tuple value's list form?\n",
    "\n",
    "### Ans:\n",
    "\n",
    "Using type conversion methods.\n",
    "\n",
    "list(tuple) => will return tuple in list format\n",
    "\n",
    "tuple(l)  => will return list in tuple format\n"
   ]
  },
  {
   "cell_type": "markdown",
   "id": "178ca412-bb83-4f76-b94b-ab2f53de9071",
   "metadata": {},
   "source": [
    "## Q16. Variables that \"contain\" list values are not necessarily lists themselves. Instead, what do they contain?\n",
    "\n",
    "### Ans:\n",
    "\n",
    "Variables will contain references to list values rather than list values themselves. "
   ]
  },
  {
   "cell_type": "markdown",
   "id": "a3f9f581-4724-4f83-a32c-5f61d8133290",
   "metadata": {},
   "source": [
    "## Q17. How do you distinguish between copy.copy() and copy.deepcopy()?\n",
    "\n",
    "### Ans:\n",
    "\n",
    "copy() create reference to original object. If you change copied object - you change the original object.  deepcopy() creates new object and does real copying of original object to new one. Changing new deepcopied object doesn't affect original object.\n"
   ]
  },
  {
   "cell_type": "code",
   "execution_count": null,
   "id": "995bae2b-3163-4232-9d39-f20942ddcd48",
   "metadata": {},
   "outputs": [],
   "source": []
  }
 ],
 "metadata": {
  "kernelspec": {
   "display_name": "Python 3 (ipykernel)",
   "language": "python",
   "name": "python3"
  },
  "language_info": {
   "codemirror_mode": {
    "name": "ipython",
    "version": 3
   },
   "file_extension": ".py",
   "mimetype": "text/x-python",
   "name": "python",
   "nbconvert_exporter": "python",
   "pygments_lexer": "ipython3",
   "version": "3.9.7"
  }
 },
 "nbformat": 4,
 "nbformat_minor": 5
}
