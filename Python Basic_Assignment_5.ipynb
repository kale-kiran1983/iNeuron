{
 "cells": [
  {
   "cell_type": "markdown",
   "id": "bef3e11c-52f7-4697-8e14-37f6206e0652",
   "metadata": {},
   "source": [
    "## Q1. What does an empty dictionary's code look like?\n",
    "\n",
    "### Ans:\n",
    "\n",
    "empty_dic={}\n"
   ]
  },
  {
   "cell_type": "markdown",
   "id": "8979eb8d-3a21-492a-a0ae-c60557731ee3",
   "metadata": {},
   "source": [
    "## Q2. What is the value of a dictionary value with the key 'foo' and the value 42?\n",
    "\n",
    "### Ans:\n",
    "\n",
    "spam.values() = dict_values([42])\n"
   ]
  },
  {
   "cell_type": "markdown",
   "id": "cb0c6563-0a81-4de1-a6c8-d3992d8f1b2e",
   "metadata": {},
   "source": [
    "## Q3. What is the most significant distinction between a dictionary and a list?\n",
    "\n",
    "### Ans:\n",
    "\n",
    "The list is an ordered collection of data, whereas the dictionaries store the data in the form of key-value pairs using the hashtable structure."
   ]
  },
  {
   "cell_type": "markdown",
   "id": "f9cd334e-4ae6-446a-867d-c8b85965be43",
   "metadata": {},
   "source": [
    "## Q4. What happens if you try to access spam['foo'] if spam is {'bar': 100}?\n",
    "\n",
    "### Ans:\n",
    "\n",
    "will get KeyError for 'foo'\n"
   ]
  },
  {
   "cell_type": "markdown",
   "id": "25886c37-0f41-436c-97e7-99dd9d6e6969",
   "metadata": {},
   "source": [
    "## Q5. If a dictionary is stored in spam, what is the difference between the expressions 'cat' in spam and 'cat' in spam.keys()?\n",
    "\n",
    "### Ans:\n",
    "\n",
    "There is no difference. The in operator checks whether a value exists as a key in the dictionary. 'cat' in spam checks whether there is a 'cat' key in the dictionary, while 'cat' in spam.values() checks whether there is a value 'cat' for one of the keys in spam ."
   ]
  },
  {
   "cell_type": "markdown",
   "id": "697e90d5-c6c9-434e-96e9-b67ccfa99029",
   "metadata": {},
   "source": [
    "## Q6. If a dictionary is stored in spam, what is the difference between the expressions 'cat' in spam and 'cat' in spam.values()?\n",
    "\n",
    "### Ans:\n",
    "\n",
    "There is difference. The in operator checks whether a value exists as a key in the dictionary. 'cat' in spam checks whether there is a 'cat' key in the dictionary, while 'cat' in spam.values() checks whether there is a value 'cat' for one of the keys in spam ."
   ]
  },
  {
   "cell_type": "markdown",
   "id": "9a811a45-db03-4235-a896-0372b8c8be89",
   "metadata": {},
   "source": [
    "## Q7. What is a shortcut for the following code?\n",
    "if 'color' not in spam:\n",
    "\n",
    "spam['color'] = 'black'\n",
    "\n",
    "### Ans:\n",
    "\n",
    "spam['color']=spam.get('color','black')"
   ]
  },
  {
   "cell_type": "markdown",
   "id": "782b021e-5d8f-4452-8112-91cc23a38f99",
   "metadata": {},
   "source": [
    "## Q8. How do you \"pretty print\" dictionary values using which module and function?\n",
    "\n",
    "### Ans:\n",
    "\n",
    "using module and function \"pprint\"\n",
    "\n",
    "example : pprint.pprint(dict, depth=1, width=60)"
   ]
  },
  {
   "cell_type": "code",
   "execution_count": null,
   "id": "48c1f9ff-c3f2-4066-b425-ec9701efc3b3",
   "metadata": {},
   "outputs": [],
   "source": []
  }
 ],
 "metadata": {
  "kernelspec": {
   "display_name": "Python 3 (ipykernel)",
   "language": "python",
   "name": "python3"
  },
  "language_info": {
   "codemirror_mode": {
    "name": "ipython",
    "version": 3
   },
   "file_extension": ".py",
   "mimetype": "text/x-python",
   "name": "python",
   "nbconvert_exporter": "python",
   "pygments_lexer": "ipython3",
   "version": "3.9.7"
  }
 },
 "nbformat": 4,
 "nbformat_minor": 5
}
