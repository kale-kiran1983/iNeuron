{
 "cells": [
  {
   "cell_type": "markdown",
   "id": "36f5ce9a-ab83-4739-85a8-e19fff0ba81a",
   "metadata": {},
   "source": [
    "## Q1. What are escape characters, and how do you use them?\n",
    "\n",
    "### Ans:\n",
    "\n",
    "\\ is escape characters which can be use as prefix to skip the speacial meaning of any char/symbol.\n",
    "To insert characters that are illegal in a string, use an escape character. An escape character is a backslash \\ followed by the character you want to insert."
   ]
  },
  {
   "cell_type": "markdown",
   "id": "c4e9868d-0b97-4ffb-b0b7-4d6c46ff974f",
   "metadata": {},
   "source": [
    "## Q2. What do the escape characters n and t stand for?\n",
    "\n",
    "### Ans:\n",
    "\n",
    "\\n => new line \n",
    "\n",
    "\\t => tab\n"
   ]
  },
  {
   "cell_type": "markdown",
   "id": "b69df193-1752-425a-b6be-fbc541805274",
   "metadata": {},
   "source": [
    "## Q3. What is the way to include backslash characters in a string?\n",
    "\n",
    "### Ans:\n",
    "\n",
    "giving double backslash. for example print(\"ABC\\\\nPQR\") which will print \"ABC\\nPQR\""
   ]
  },
  {
   "cell_type": "markdown",
   "id": "5fb86d0a-6e0d-4853-b020-f805e596dfec",
   "metadata": {},
   "source": [
    "## Q4. The string \"Howl's Moving Castle\" is a correct value. Why isn't the single quote character in the word Howl's not escaped a problem?\n",
    "\n",
    "### Ans:\n",
    "\n",
    "String is defined inside double quote i.e. \" and hence single quote in string will not raise any problem. but if we define same string in single quote then we will require escape character. For ex. 'Howl\\'s Moving Castle'\n"
   ]
  },
  {
   "cell_type": "markdown",
   "id": "c3b411a2-98b3-42e1-a78b-bd12730347f3",
   "metadata": {},
   "source": [
    "## Q5. How do you write a string of newlines if you don't want to use the n character?\n",
    "\n",
    "### Ans:\n",
    "\n",
    "To have sting of newlines without \\n then we need to write sting in triple double quote with multline text. for ex.\n",
    "\"\"\" HI\n",
    " Welcome\"\"\"\n"
   ]
  },
  {
   "cell_type": "markdown",
   "id": "e1e3afba-2462-4e05-907d-62031e238f05",
   "metadata": {},
   "source": [
    "## Q6. What are the values of the given expressions?\n",
    "\n",
    "'Hello, world!'[1]\n",
    "\n",
    "'Hello, world!'[0:5]\n",
    "\n",
    "'Hello, world!'[:5]\n",
    "\n",
    "'Hello, world!'[3:]\n",
    "\n",
    "### Ans:\n",
    "\n",
    "'Hello, world!'[1] = 'e'\n",
    "\n",
    "'Hello, world!'[0:5] = 'Hello'\n",
    "\n",
    "'Hello, world!'[:5] = 'Hello'\n",
    "\n",
    "'Hello, world!'[3:] = 'lo, world!'\n"
   ]
  },
  {
   "cell_type": "markdown",
   "id": "230cb198-48a2-4d66-b3a0-ce5e794b8ffa",
   "metadata": {},
   "source": [
    "## Q7. What are the values of the following expressions?\n",
    "'Hello'.upper()\n",
    "\n",
    "'Hello'.upper().isupper()\n",
    "\n",
    "'Hello'.upper().lower()\n",
    "\n",
    "### Ans:\n",
    "\n",
    "'Hello'.upper() = 'HELLO'\n",
    "\n",
    "'Hello'.upper().isupper() = True\n",
    "\n",
    "'Hello'.upper().lower() ='hello'\n"
   ]
  },
  {
   "cell_type": "markdown",
   "id": "54b2f4f3-087e-43c9-b5c6-04ffaaac3f1e",
   "metadata": {},
   "source": [
    "## Q8. What are the values of the following expressions?\n",
    "'Remember, remember, the fifth of July.'.split()\n",
    "\n",
    "'-'.join('There can only one.'.split())\n",
    "\n",
    "### Ans:\n",
    "\n",
    "'Remember, remember, the fifth of July.'.split() = ['Remember,', 'remember,', 'the', 'fifth', 'of', 'July.']\n",
    "\n",
    "'-'.join('There can only one.'.split()) = 'There-can-only-one.'\n",
    "\n"
   ]
  },
  {
   "cell_type": "markdown",
   "id": "cc70eaf1-c2b2-4f04-8aa4-bdce5a608ecd",
   "metadata": {},
   "source": [
    "## Q9. What are the methods for right-justifying, left-justifying, and centering a string?\n",
    "\n",
    "### Ans:\n",
    "\n",
    "right-justifying = rjust()\n",
    "\n",
    "left-justifying = ljust()\n",
    "\n",
    "centering = center()"
   ]
  },
  {
   "cell_type": "markdown",
   "id": "ef8bdcc1-de5f-4314-9d98-5c0c8e42a1d4",
   "metadata": {},
   "source": [
    "## Q10. What is the best way to remove whitespace characters from the start or end?\n",
    "\n",
    "### Ans:\n",
    "\n",
    "We can use below 3 functions\n",
    "\n",
    "strip() = Both start and end whitespace\n",
    "\n",
    "lstrip()= Start whitespace\n",
    "\n",
    "rstrip()= End whitespace\n",
    "\n",
    "\n"
   ]
  }
 ],
 "metadata": {
  "kernelspec": {
   "display_name": "Python 3 (ipykernel)",
   "language": "python",
   "name": "python3"
  },
  "language_info": {
   "codemirror_mode": {
    "name": "ipython",
    "version": 3
   },
   "file_extension": ".py",
   "mimetype": "text/x-python",
   "name": "python",
   "nbconvert_exporter": "python",
   "pygments_lexer": "ipython3",
   "version": "3.9.7"
  }
 },
 "nbformat": 4,
 "nbformat_minor": 5
}
