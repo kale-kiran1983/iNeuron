{
 "cells": [
  {
   "cell_type": "markdown",
   "id": "d470c40b-aea6-419c-94c7-12bd3190dd6c",
   "metadata": {},
   "source": [
    "## Q1. What is the name of the feature responsible for generating Regex objects?\n",
    "\n",
    "### Ans:\n",
    "\n",
    "The re. compile() function returns Regex objects."
   ]
  },
  {
   "cell_type": "markdown",
   "id": "e91676f2-4eef-43b5-86f6-5d8cdddfef34",
   "metadata": {},
   "source": [
    "## Q2. Why do raw strings often appear in Regex objects?\n",
    "\n",
    "### Ans:\n",
    "\n",
    "Raw strings are used so that backslashes do not have to be escaped.\n"
   ]
  },
  {
   "cell_type": "markdown",
   "id": "b18840a2-3702-4b7a-bc5e-58b5500b7b6c",
   "metadata": {},
   "source": [
    "## Q3. What is the return value of the search() method?\n",
    "\n",
    "### Ans:\n",
    "\n",
    "The function searches for some substring in a string and returns a match object if found, else it returns none.\n"
   ]
  },
  {
   "cell_type": "markdown",
   "id": "54592451-103b-4d65-a05a-0348d118b131",
   "metadata": {},
   "source": [
    "## Q4. From a Match item, how do you get the actual strings that match the pattern?\n",
    "\n",
    "### Ans:\n",
    "\n",
    "Import the regex module with import re.\n",
    "\n",
    "Create a Regex object with the re.\n",
    "\n",
    "Pass the string you want to search into the Regex object's search() method.\n",
    "\n",
    "Call the Match object's group() method to return a string of the actual matched text."
   ]
  },
  {
   "cell_type": "markdown",
   "id": "6725401c-d5e3-47fb-9b3f-64c4f3d6adbb",
   "metadata": {},
   "source": [
    "## Q5. In the regex which created from the r'(\\d\\d\\d)-(\\d\\d\\d-\\d\\d\\d\\d)', what does group zero cover? Group 2? Group 1?\n",
    "\n",
    "### Ans:\n",
    "\n",
    "Group 0 is the entire match, group 1 covers the first set of parentheses, and group 2 covers the second set of parentheses."
   ]
  },
  {
   "cell_type": "markdown",
   "id": "94095c09-a90d-4b92-a3e2-abf16fd1c05d",
   "metadata": {},
   "source": [
    "## Q6. In standard expression syntax, parentheses and intervals have distinct meanings. How can you tell a regex that you want it to fit real parentheses and periods?\n",
    "\n",
    "### Ans:\n",
    "Any distinct meaning can be overrite by escaped character. Periods and parentheses can be escaped with a backslash: \\., \\(, and \\).\n"
   ]
  },
  {
   "cell_type": "markdown",
   "id": "114efab3-8129-4081-b8dd-827accfe9d21",
   "metadata": {},
   "source": [
    "## Q7. The findall() method returns a string list or a list of string tuples. What causes it to return one of the two options?\n",
    "\n",
    "### Ans:\n",
    "It will be based on number of groups in output string. If the regex has no groups, a list of strings is returned. If the regex has groups, a list of tuples of strings is returned."
   ]
  },
  {
   "cell_type": "markdown",
   "id": "031351dd-7ac6-4b9b-a10a-5897d2e090ec",
   "metadata": {},
   "source": [
    "## Q8. In standard expressions, what does the | character mean?\n",
    "\n",
    "### Ans:\n",
    "\n",
    "The | character signifies matching “either, or” between two groups."
   ]
  },
  {
   "cell_type": "markdown",
   "id": "1f992b3b-1785-4d87-8cca-4986663a5459",
   "metadata": {},
   "source": [
    "## Q9. In regular expressions, what does the character stand for?\n",
    "\n",
    "### Ans:\n",
    "\n",
    "? = Zero or one occurrences\n"
   ]
  },
  {
   "cell_type": "markdown",
   "id": "177b508e-bec8-4200-b50e-2f0306f19e0b",
   "metadata": {},
   "source": [
    "## Q10.In regular expressions, what is the difference between the + and * characters?\n",
    "\n",
    "### Ans:\n",
    "\n",
    " \\* = Zero or one occurrences\n",
    " \n",
    " \\+ = One or more occurrences\n",
    "\n"
   ]
  },
  {
   "cell_type": "markdown",
   "id": "99df1adc-b721-4ee8-8e02-cce13aa35f79",
   "metadata": {},
   "source": [
    "## Q11. What is the difference between {4} and {4,5} in regular expression?\n",
    "\n",
    "### Ans:\n",
    "\n",
    "The {4} matches exactly three instances of the preceding group. The {4,5} matches between four and five instances."
   ]
  },
  {
   "cell_type": "markdown",
   "id": "06fa1958-9514-4835-8b6a-80dce79300c0",
   "metadata": {},
   "source": [
    "## Q12. What do you mean by the \\d, \\w, and \\s shorthand character classes signify in regular expressions?\n",
    "\n",
    "### Ans:\n",
    "\n",
    "The \\d, \\w, and \\s shorthand character classes match a single digit, word, or space character, respectively.\n"
   ]
  },
  {
   "cell_type": "markdown",
   "id": "6ae0cb9a-2578-4d16-87d2-8d8d03ce8c57",
   "metadata": {},
   "source": [
    "## Q13. What do means by \\D, \\W, and \\S shorthand character classes signify in regular expressions?\n",
    "\n",
    "### Ans:\n",
    "\n",
    "The \\D, \\W, and \\S shorthand character classes match a single character that is not a digit, word, or space character, respectively.\n"
   ]
  },
  {
   "cell_type": "markdown",
   "id": "c9f4375e-8a88-4e5e-a988-9fd6cff4614a",
   "metadata": {},
   "source": [
    "## Q14. What is the difference between .*? and .*?\n",
    "\n",
    "### Ans:\n",
    "\n",
    ".*? and .*? = Both are same\n",
    "\n",
    ".* and .*? = The .* performs a greedy match, and the .*? performs a nongreedy match.\n",
    "\n"
   ]
  },
  {
   "cell_type": "markdown",
   "id": "2e90e035-7511-48e9-8aa7-c230b0a38842",
   "metadata": {},
   "source": [
    "## Q15. What is the syntax for matching both numbers and lowercase letters with a character class?\n",
    "\n",
    "### Ans:\n",
    "\n",
    "Either [0-9a-z] or [a-z0-9]"
   ]
  },
  {
   "cell_type": "markdown",
   "id": "95ea4993-0370-4bce-bab6-6913ea39490e",
   "metadata": {},
   "source": [
    "## Q16. What is the procedure for making a normal expression in regax case insensitive?\n",
    "\n",
    "### Ans:\n",
    "\n",
    "Passing re.I or re.IGNORECASE as the second argument to re.compile() will make the matching case insensitive."
   ]
  },
  {
   "cell_type": "markdown",
   "id": "1bcd642e-7bcc-4803-a700-053046427751",
   "metadata": {},
   "source": [
    "## Q17. What does the . character normally match? What does it match if re.DOTALL is passed as 2nd argument in re.compile()?\n",
    "\n",
    "### Ans:\n",
    "\n",
    "The . character normally matches any character except the newline character. If re.DOTALL is passed as the second argument to re.compile(), then the dot will also match newline characters.\n"
   ]
  },
  {
   "cell_type": "markdown",
   "id": "2115845e-981f-4297-bc65-78205a38addb",
   "metadata": {},
   "source": [
    "## Q18. If numReg = re.compile(r'\\d+'), what will numRegex.sub('X', '11 drummers, 10 pipers, five rings, 4 hen') return?\n",
    "\n",
    "### Ans:\n",
    "\n",
    "Output : 'X drummers, X pipers, five rings, X hen'\n"
   ]
  },
  {
   "cell_type": "markdown",
   "id": "7f8ad44e-4df0-4ce2-9691-bbcdcf0c1283",
   "metadata": {},
   "source": [
    "## Q19. What does passing re.VERBOSE as the 2nd argument to re.compile() allow to do?\n",
    "\n",
    "### Ans:\n",
    "\n",
    "The re.VERBOSE argument allows you to add whitespace and comments to the string passed to re.compile()\n"
   ]
  },
  {
   "cell_type": "markdown",
   "id": "009df1a7-21c7-442b-ae53-402c83a4e8f6",
   "metadata": {},
   "source": [
    "## Q20. How would you write a regex that match a number with comma for every three digits? It must match the given following:\n",
    "\n",
    "'42'\n",
    "\n",
    "'1,234'\n",
    "\n",
    "'6,368,745'\n",
    "\n",
    "but not the following:\n",
    "\n",
    "'12,34,567' (which has only two digits between the commas)\n",
    "\n",
    "'1234' (which lacks commas)\n",
    "\n",
    "### Ans:\n"
   ]
  },
  {
   "cell_type": "code",
   "execution_count": 6,
   "id": "87330a15-17b5-40da-a44e-216610a8eaa6",
   "metadata": {},
   "outputs": [
    {
     "name": "stdout",
     "output_type": "stream",
     "text": [
      "42 - match\n",
      "1,234 - match\n",
      "6,368,745 - match\n",
      "12,34,567 - mismatch\n",
      "1234 - mismatch\n"
     ]
    }
   ],
   "source": [
    "import re\n",
    "#txt = \"1234\"\n",
    "#x = re.search(r'(^(\\d{1,3},)?(\\d{3},)*\\d{3}$)|(^\\d{1,3}$)', txt)\n",
    "\n",
    "txt = ['42','1,234','6,368,745','12,34,567','1234']\n",
    "\n",
    "for i in range(0,len(txt)):\n",
    "\tx = re.search(r'(^(\\d{1,3},)?(\\d{3},)*\\d{3}$)|(^\\d{1,3}$)', txt[i])\n",
    "\n",
    "\tif(x):\n",
    "\t\tprint(txt[i],\"- match\")\n",
    "\telse:\n",
    "\t\tprint(txt[i],\"- mismatch\")\n",
    "\n",
    "    \n",
    "    "
   ]
  },
  {
   "cell_type": "markdown",
   "id": "bacfc92b-5a6a-4848-ad14-db761ed12bd8",
   "metadata": {},
   "source": [
    "## Q21. How would you write a regex that matches the full name of someone whose last name is Watanabe? You can assume that the first name that comes before it will always be one word that begins with a capital letter. The regex must match the following:\n",
    "\n",
    "'Haruto Watanabe'\n",
    "\n",
    "'Alice Watanabe'\n",
    "\n",
    "'RoboCop Watanabe'\n",
    "\n",
    "but not the following:\n",
    "\n",
    "'haruto Watanabe' (where the first name is not capitalized)\n",
    "\n",
    "'Mr. Watanabe' (where the preceding word has a nonletter character)\n",
    "\n",
    "'Watanabe' (which has no first name)\n",
    "\n",
    "'Haruto watanabe' (where Watanabe is not capitalized)\n",
    "\n",
    "### Ans:\n"
   ]
  },
  {
   "cell_type": "code",
   "execution_count": 5,
   "id": "6a4d920c-02db-4740-9238-0b13087eed8b",
   "metadata": {},
   "outputs": [
    {
     "name": "stdout",
     "output_type": "stream",
     "text": [
      "Haruto Watanabe - match\n",
      "Alice Watanabe - match\n",
      "RoboCop Watanabe - match\n",
      "haruto Watanabe - mismatch\n",
      "Mr. Watanabe - mismatch\n",
      "Watanabe - mismatch\n",
      "Haruto watanabe - mismatch\n"
     ]
    }
   ],
   "source": [
    "import re\n",
    "\n",
    "txt =['Haruto Watanabe','Alice Watanabe','RoboCop Watanabe','haruto Watanabe','Mr. Watanabe','Watanabe','Haruto watanabe']\n",
    "\n",
    "for i in range(0,len(txt)):\n",
    "\tx = re.search(r'(^[A-Z][a-zA-Z]*\\sWatanabe$)', txt[i])\n",
    "\n",
    "\tif(x):\n",
    "\t\tprint(txt[i],\"- match\")\n",
    "\telse:\n",
    "\t\tprint(txt[i],\"- mismatch\")\n"
   ]
  },
  {
   "cell_type": "markdown",
   "id": "cc4cc590-2464-4154-89ab-c4233ed11c41",
   "metadata": {
    "tags": []
   },
   "source": [
    "## Q22. How would you write a regex that matches a sentence where the first word is either Alice, Bob, or Carol; the second word is either eats, pets, or throws; the third word is apples, cats, or baseballs; and the sentence ends with a period? This regex should be case-insensitive. It must match the following:\n",
    "\n",
    "'Alice eats apples.'\n",
    "\n",
    "'Bob pets cats.'\n",
    "\n",
    "'Carol throws baseballs.'\n",
    "\n",
    "'Alice throws Apples.'\n",
    "\n",
    "'BOB EATS CATS.'\n",
    "\n",
    "but not the following:\n",
    "\n",
    "'RoboCop eats apples.'\n",
    "\n",
    "'ALICE THROWS FOOTBALLS.'\n",
    "\n",
    "'Carol eats 7 cats.'\n",
    "\n",
    "### Ans:\n",
    "\n"
   ]
  },
  {
   "cell_type": "code",
   "execution_count": 7,
   "id": "dc03ba3a-e9d5-4d4b-8813-d0e6a03b3318",
   "metadata": {},
   "outputs": [
    {
     "name": "stdout",
     "output_type": "stream",
     "text": [
      "Alice eats apples. - match\n",
      "Bob pets cats. - match\n",
      "Carol throws baseballs. - match\n",
      "Alice throws Apples. - match\n",
      "BOB EATS CATS. - match\n",
      "RoboCop eats apples. - mismatch\n",
      "ALICE THROWS FOOTBALLS. - mismatch\n",
      "Carol eats 7 cats. - mismatch\n"
     ]
    }
   ],
   "source": [
    "import re\n",
    "txt =['Alice eats apples.','Bob pets cats.','Carol throws baseballs.','Alice throws Apples.','BOB EATS CATS.','RoboCop eats apples.','ALICE THROWS FOOTBALLS.','Carol eats 7 cats.']\n",
    "\n",
    "for i in range(0,len(txt)):\n",
    "\tx = re.search(r'(^(Alice|Bob|Carol)\\s(eats|pets|throws)\\s(apples|cats|baseballs)\\.$)', txt[i],re.IGNORECASE)\n",
    "\n",
    "\tif(x):\n",
    "\t\tprint(txt[i],\"- match\")\n",
    "\telse:\n",
    "\t\tprint(txt[i],\"- mismatch\")\n",
    "    \n"
   ]
  },
  {
   "cell_type": "code",
   "execution_count": null,
   "id": "524b1e51-ce96-4eff-b2e9-7c714f47738f",
   "metadata": {},
   "outputs": [],
   "source": []
  }
 ],
 "metadata": {
  "kernelspec": {
   "display_name": "Python 3 (ipykernel)",
   "language": "python",
   "name": "python3"
  },
  "language_info": {
   "codemirror_mode": {
    "name": "ipython",
    "version": 3
   },
   "file_extension": ".py",
   "mimetype": "text/x-python",
   "name": "python",
   "nbconvert_exporter": "python",
   "pygments_lexer": "ipython3",
   "version": "3.9.7"
  }
 },
 "nbformat": 4,
 "nbformat_minor": 5
}
