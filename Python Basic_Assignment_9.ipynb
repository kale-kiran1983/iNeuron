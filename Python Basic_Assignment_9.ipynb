{
 "cells": [
  {
   "cell_type": "markdown",
   "id": "44004935-16b5-4ab4-99e7-9d3b120bf5b1",
   "metadata": {},
   "source": [
    "## Q1. To what does a relative path refer?\n",
    "\n",
    "### Ans:\n",
    "\n",
    "A relative path refers to a location that is relative to a current directory. Relative paths make use of two special symbols, a dot (.) and a double-dot (..), which translate into the current directory and the parent directory. Double dots are used for moving up in the hierarchy.\n"
   ]
  },
  {
   "cell_type": "markdown",
   "id": "0c03d2e2-0576-4ab7-adbc-58514a3badf4",
   "metadata": {},
   "source": [
    "## Q2. What does an absolute path start with your operating system?\n",
    "\n",
    "### Ans:\n",
    "\n",
    "An absolute path is a path that contains the entire path to the file or directory that you need to access. This path will begin at the home directory of your computer and will end with the file or directory that you wish to access. Absolute paths ensure that Python can find the exact file on your computer.\n"
   ]
  },
  {
   "cell_type": "markdown",
   "id": "d479b208-c775-413e-af20-b3b0d0977a0d",
   "metadata": {},
   "source": [
    "## Q3. What do the functions os.getcwd() and os.chdir() do?\n",
    "\n",
    "### Ans:\n",
    "\n",
    "os. getcwd() method tells us the location of current working directory (CWD).\n",
    "\n",
    "os.chdir() methods help us to change current directory to specified path\n"
   ]
  },
  {
   "cell_type": "markdown",
   "id": "b0946693-2488-404b-8178-d987064355c8",
   "metadata": {},
   "source": [
    "## Q4. What are the . and .. folders?\n",
    "\n",
    "### Ans:\n",
    "\n",
    "Relative paths make use of two special symbols, a dot (.) and a double-dot (..), which translate into the current directory and the parent directory. Double dots are used for moving up in the hierarchy.\n"
   ]
  },
  {
   "cell_type": "markdown",
   "id": "ee60503d-fd4f-45e6-b393-616936882e4e",
   "metadata": {},
   "source": [
    "## Q5. In C:\\bacon\\eggs\\spam.txt, which part is the dir name, and which part is the base name?\n",
    "\n",
    "### Ans:\n",
    "\n",
    "Dir name : C:\\bacon\\eggs\n",
    "\n",
    "Base name : spam.txt\n"
   ]
  },
  {
   "cell_type": "markdown",
   "id": "a256e02a-92f2-4908-99f8-ea948f6a7b59",
   "metadata": {},
   "source": [
    "## Q6. What are the three “mode” arguments that can be passed to the open() function?\n",
    "\n",
    "### Ans:\n",
    "\n",
    "Below are three majorly used argument but there are more options availble in mode.\n",
    "\n",
    "r - Open a file for reading.\n",
    "\n",
    "w - Open a file for writing. Creates a new file if it does not exist or truncates the file if it exists.\n",
    "\n",
    "a - Open for appending at the end of the file without truncating it. Creates a new file if it does not exist.\n"
   ]
  },
  {
   "cell_type": "markdown",
   "id": "68fbbce5-33d2-43a9-a81c-c72fb3026997",
   "metadata": {},
   "source": [
    "## Q7. What happens if an existing file is opened in write mode?\n",
    "\n",
    "### Ans:\n",
    "\n",
    "it will truncate the file."
   ]
  },
  {
   "cell_type": "markdown",
   "id": "d5f9740c-b224-4445-b8d3-6175c52d923d",
   "metadata": {},
   "source": [
    "## Q8. How do you tell the difference between read() and readlines()?\n",
    "\n",
    "### Ans:\n",
    "\n",
    "The read() will read the whole file at once and then print out the first characters that take up as many bytes as you specify in the parenthesis versus the readline() that will read and print out only the first characters that take up as many bytes as you specify in the parenthesis."
   ]
  },
  {
   "cell_type": "markdown",
   "id": "3a5d14a3-1cba-4482-86d6-8f1f395669b1",
   "metadata": {},
   "source": [
    "## Q9. What data structure does a shelf value resemble?\n",
    "\n",
    "### Ans:\n",
    "\n",
    "A shelf value resembles a dictionary value; it has keys and values, along with keys() and values() methods that work similarly to the dictionary methods of the same names."
   ]
  },
  {
   "cell_type": "code",
   "execution_count": null,
   "id": "f2da7478-916a-4648-89cb-22e4790f6626",
   "metadata": {},
   "outputs": [],
   "source": []
  }
 ],
 "metadata": {
  "kernelspec": {
   "display_name": "Python 3 (ipykernel)",
   "language": "python",
   "name": "python3"
  },
  "language_info": {
   "codemirror_mode": {
    "name": "ipython",
    "version": 3
   },
   "file_extension": ".py",
   "mimetype": "text/x-python",
   "name": "python",
   "nbconvert_exporter": "python",
   "pygments_lexer": "ipython3",
   "version": "3.9.7"
  }
 },
 "nbformat": 4,
 "nbformat_minor": 5
}
